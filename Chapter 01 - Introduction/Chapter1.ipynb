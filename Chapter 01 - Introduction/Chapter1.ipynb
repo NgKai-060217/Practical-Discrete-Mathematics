{
  "cells": [
    {
      "cell_type": "markdown",
      "metadata": {
        "id": "view-in-github",
        "colab_type": "text"
      },
      "source": [
        "<a href=\"https://colab.research.google.com/github/NgKai-060217/Practical-Discrete-Mathematics/blob/master/Chapter%2001%20-%20Introduction/Chapter1.ipynb\" target=\"_parent\"><img src=\"https://colab.research.google.com/assets/colab-badge.svg\" alt=\"Open In Colab\"/></a>"
      ]
    },
    {
      "cell_type": "markdown",
      "source": [
        "Question :Request user input of a simple prposition statement.Create a truth table."
      ],
      "metadata": {
        "id": "7ygImSxtz_27"
      }
    },
    {
      "cell_type": "markdown",
      "metadata": {
        "id": "aoo81aotousb"
      },
      "source": [
        "# Chapter 1 - Introduction: Key Concepts, Notation, Set Theory, Relations, and Functions\n",
        "\n",
        "This notebook contains code accompanying Chapter 1 Introduction: Key Concepts, Notation, Set Theory, Relations, and Functions in *Practical Discrete Mathematics* by Ryan T. White and Archana Tikayat Ray\n",
        "\n",
        "## Functions and Relations\n",
        "\n",
        "### The `sort()` function"
      ]
    },
    {
      "cell_type": "code",
      "execution_count": null,
      "metadata": {
        "id": "CiKz8vdvousc",
        "outputId": "56e1f6a9-d729-4441-fbe2-35ad1e5f1c69"
      },
      "outputs": [
        {
          "name": "stdout",
          "output_type": "stream",
          "text": [
            "[1, 2, 3, 4, 5, 8, 9, 12]\n",
            "['Brandon', 'Elise', 'Eugene', 'Kumar', 'Wyatt']\n"
          ]
        }
      ],
      "source": [
        "numbers = [3, 1, 4, 12, 8, 5, 2, 9]\n",
        "names = ['Wyatt', 'Brandon', 'Kumar', 'Eugene', 'Elise']\n",
        "\n",
        "# Apply the sort() function to the lists\n",
        "numbers.sort()\n",
        "names.sort()\n",
        "\n",
        "# Display the output\n",
        "print(numbers)\n",
        "print(names)"
      ]
    },
    {
      "cell_type": "code",
      "source": [],
      "metadata": {
        "id": "ZJyvHw4W0Va_"
      },
      "execution_count": null,
      "outputs": []
    },
    {
      "cell_type": "markdown",
      "metadata": {
        "id": "ybVQ6olZousd"
      },
      "source": [
        "### The `shuffle()` function"
      ]
    },
    {
      "cell_type": "markdown",
      "source": [
        "Question :Request user input of a simple prposition statement.Create a truth table."
      ],
      "metadata": {
        "id": "knFlDqyzxE-G"
      }
    },
    {
      "cell_type": "code",
      "source": [
        "\n",
        "# prompt: request user input of a simple proposition statement create a truth statement p and q\n",
        "\n",
        "def truth_table(p, q):\n",
        "  \"\"\"Generates a truth table for a proposition involving p and q.\"\"\"\n",
        "  print(\"p\\tq\\tp and q\\tp or q\\tnot p\")\n",
        "  for p_val in [True, False]:\n",
        "    for q_val in [True, False]:\n",
        "      print(f\"{p_val}\\t{q_val}\\t{p_val and q_val}\\t{p_val or q_val}\\t{not p_val}\")\n",
        "\n",
        "# Request user input\n",
        "proposition = input(\"Enter a simple proposition statement using p and q (e.g., p and q, p or q, not p): \")\n",
        "\n",
        "print(\"\\nTruth Table:\")\n",
        "truth_table(True, True)  # Replace with variables representing p and q based on the user's input.\n"
      ],
      "metadata": {
        "id": "8nOkLc6w1ivW",
        "outputId": "99972b67-cafe-4bba-89c1-0c8f2bdd6fd2",
        "colab": {
          "base_uri": "https://localhost:8080/"
        }
      },
      "execution_count": 9,
      "outputs": [
        {
          "output_type": "stream",
          "name": "stdout",
          "text": [
            "Enter a simple proposition statement using p and q (e.g., p and q, p or q, not p): p and q\n",
            "\n",
            "Truth Table:\n",
            "p\tq\tp and q\tp or q\tnot p\n",
            "True\tTrue\tTrue\tTrue\tFalse\n",
            "True\tFalse\tFalse\tTrue\tFalse\n",
            "False\tTrue\tFalse\tTrue\tTrue\n",
            "False\tFalse\tFalse\tFalse\tTrue\n"
          ]
        }
      ]
    },
    {
      "cell_type": "code",
      "source": [
        "proposition =input ()"
      ],
      "metadata": {
        "id": "dJKAZ_OkwlQd"
      },
      "execution_count": null,
      "outputs": []
    },
    {
      "cell_type": "code",
      "execution_count": null,
      "metadata": {
        "id": "OcJkQB8fousd",
        "outputId": "1006a2f3-1e3b-4224-cdaf-decb8774da53",
        "colab": {
          "base_uri": "https://localhost:8080/"
        }
      },
      "outputs": [
        {
          "output_type": "stream",
          "name": "stdout",
          "text": [
            "[12, 2, 1, 5, 9, 3, 8, 4]\n",
            "[4, 2, 8, 3, 1, 12, 5, 9]\n",
            "[4, 5, 1, 9, 3, 8, 12, 2]\n",
            "[9, 12, 2, 8, 5, 3, 4, 1]\n",
            "[9, 8, 4, 3, 12, 1, 5, 2]\n"
          ]
        }
      ],
      "source": [
        "import random\n",
        "\n",
        "# Set a random seed so the code is reproducible\n",
        "random.seed(1)\n",
        "\n",
        "# Run the random.shuffle() function 5 times and display the outputs\n",
        "for i in range(0,5):\n",
        "    numbers = [3, 1, 4, 12, 8, 5, 2, 9]\n",
        "    random.shuffle(numbers)\n",
        "    print(numbers)"
      ]
    }
  ],
  "metadata": {
    "kernelspec": {
      "display_name": "Python 3.7 (DL)",
      "language": "python",
      "name": "dl"
    },
    "language_info": {
      "codemirror_mode": {
        "name": "ipython",
        "version": 3
      },
      "file_extension": ".py",
      "mimetype": "text/x-python",
      "name": "python",
      "nbconvert_exporter": "python",
      "pygments_lexer": "ipython3",
      "version": "3.7.7"
    },
    "colab": {
      "provenance": [],
      "include_colab_link": true
    }
  },
  "nbformat": 4,
  "nbformat_minor": 0
}